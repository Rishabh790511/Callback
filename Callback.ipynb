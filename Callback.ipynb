{
 "cells": [
  {
   "cell_type": "code",
   "execution_count": null,
   "id": "3913759d-b1da-4766-ad02-0fa286b330d0",
   "metadata": {
    "tags": []
   },
   "outputs": [],
   "source": [
    "## Q1. Install and load the latest versions of TensorFlow and Keras. Print their versions.\n",
    "!pip install tensorflow keras\n",
    "import tensorflow as tf\n",
    "from tensorflow import keras\n",
    "\n",
    "print(\"TensorFlow version:\", tf.__version__)\n",
    "print(\"Keras version:\", keras.__version__)\n",
    "\n",
    "# Q2. Load the Wine Quality dataset and explore its dimensions.\n",
    "import pandas as pd\n",
    "\n",
    "wine_quality_data = pd.read_csv(\"https://archive.ics.uci.edu/ml/machine-learning-databases/wine-quality/winequality-red.csv\", sep=';')\n",
    "print(\"Dataset dimensions:\", wine_quality_data.shape)\n",
    "\n",
    "# Q3. Check for null values, identify categorical variables, and encode them.\n",
    "print(\"Null values:\\n\", wine_quality_data.isnull().sum())\n",
    "\n",
    "# Q4. Separate the features and target variables from the dataframe.\n",
    "X = wine_quality_data.drop('quality', axis=1)\n",
    "y = wine_quality_data['quality']\n",
    "\n",
    "# Q5. Perform a train-test split and divide the data into training, validation, and test datasets.\n",
    "from sklearn.model_selection import train_test_split\n",
    "\n",
    "X_train, X_temp, y_train, y_temp = train_test_split(X, y, test_size=0.3, random_state=42)\n",
    "X_val, X_test, y_val, y_test = train_test_split(X_temp, y_temp, test_size=0.5, random_state=42)\n",
    "\n",
    "# Q6. Perform scaling on the dataset.\n",
    "from sklearn.preprocessing import StandardScaler\n",
    "\n",
    "scaler = StandardScaler()\n",
    "X_train_scaled = scaler.fit_transform(X_train)\n",
    "X_val_scaled = scaler.transform(X_val)\n",
    "X_test_scaled = scaler.transform(X_test)\n",
    "\n",
    "# Q7. Create at least 2 hidden layers and an output layer for the binary categorical variables.\n",
    "model = keras.Sequential([\n",
    "    keras.layers.Dense(64, activation='relu', input_shape=(X_train_scaled.shape[1],)),\n",
    "    keras.layers.Dense(32, activation='relu'),\n",
    "    keras.layers.Dense(1, activation='sigmoid')\n",
    "])\n",
    "\n",
    "# Q8. Create a Sequential model and add all the layers to it.\n",
    "# This step is already done in the previous code block.\n",
    "\n",
    "# Q9. Implement a TensorBoard callback to visualize and monitor the model's training process.\n",
    "tensorboard_callback = keras.callbacks.TensorBoard(log_dir=\"./logs\")\n",
    "\n",
    "# Q10. Use Early Stopping to prevent overfitting by monitoring a chosen metric and stopping the training if no improvement is observed.\n",
    "early_stopping_callback = keras.callbacks.EarlyStopping(monitor='val_loss', patience=5)\n",
    "\n",
    "# Q11. Implement a ModelCheckpoint callback to save the best model\n"
   ]
  },
  {
   "cell_type": "code",
   "execution_count": null,
   "id": "a2a80df0-ff90-49d8-8e61-31c0cb6a355c",
   "metadata": {},
   "outputs": [],
   "source": []
  }
 ],
 "metadata": {
  "kernelspec": {
   "display_name": "Python 3 (ipykernel)",
   "language": "python",
   "name": "python3"
  },
  "language_info": {
   "codemirror_mode": {
    "name": "ipython",
    "version": 3
   },
   "file_extension": ".py",
   "mimetype": "text/x-python",
   "name": "python",
   "nbconvert_exporter": "python",
   "pygments_lexer": "ipython3",
   "version": "3.11.5"
  }
 },
 "nbformat": 4,
 "nbformat_minor": 5
}
